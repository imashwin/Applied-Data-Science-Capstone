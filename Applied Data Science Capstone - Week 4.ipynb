{
    "cells": [
        {
            "cell_type": "markdown",
            "metadata": {
                "collapsed": true
            },
            "source": "# Introduction"
        },
        {
            "cell_type": "markdown",
            "metadata": {},
            "source": "### Background\n\nA recent study from the reputable Fake Immigration Research Institute released its findings that there is a lot of migration of New York City residents moving to Toronto. There is thus a potential business opportunity by providing a recommendation service."
        },
        {
            "cell_type": "markdown",
            "metadata": {},
            "source": "### Problem\nThis project will provide a recommendation service to New York City residents planning a move to Toronto. It will do this by comparing the neighborhoods of New York City and Toronto, and then listing the Toronto neighborhoods most similar to each New York City neighborhood."
        },
        {
            "cell_type": "markdown",
            "metadata": {},
            "source": "# Data"
        },
        {
            "cell_type": "markdown",
            "metadata": {},
            "source": "### 1) New York University Spatial Data Repository\n\nThis dataset consists of the neighborhoods of New York City, as well as the latitude and longitude coordinates for each neighborhood.\n\nLink: https://geo.nyu.edu/catalog/nyu_2451_34572\n\nExample data point:\n{'type': 'Feature',\n 'id': 'nyu_2451_34572.1',\n 'geometry': {'type': 'Point',\n  'coordinates': [-73.84720052054902, 40.89470517661]},\n 'geometry_name': 'geom',\n 'properties': {'name': 'Wakefield',\n  'stacked': 1,\n  'annoline1': 'Wakefield',\n  'annoline2': None,\n  'annoline3': None,\n  'annoangle': 0.0,\n  'borough': 'Bronx',\n  'bbox': [-73.84720052054902,\n   40.89470517661,\n   -73.84720052054902,\n   40.89470517661]}}\n\n### 2) Wikipedia page of Canadian postal codes starting with M\n\nThis page contains postal codes in Canada where the first letter is M. Postal codes beginning with 'M' are located within the city of Toronto.\n\nLink: https://en.wikipedia.org/wiki/List_of_postal_codes_of_Canada:_M\n\nExample data point:\n\n{'Postal Code': 'M4A',\n 'Borough': 'North York',\n 'Neighbourhood': 'Victoria Village'}\n\n### 3) Foursquare API\n\nThis dataset that describes places and venues, including such information as geographical location, their category, working hourrs, full address, and more. It also contains information about what venues exist within a defined radius of any given location.\n\nLink: https://api.foursquare.com"
        },
        {
            "cell_type": "markdown",
            "metadata": {},
            "source": "# Methodology"
        },
        {
            "cell_type": "markdown",
            "metadata": {},
            "source": ""
        },
        {
            "cell_type": "markdown",
            "metadata": {},
            "source": "# Results"
        },
        {
            "cell_type": "markdown",
            "metadata": {},
            "source": ""
        },
        {
            "cell_type": "markdown",
            "metadata": {},
            "source": "# Discussion"
        },
        {
            "cell_type": "markdown",
            "metadata": {},
            "source": ""
        },
        {
            "cell_type": "markdown",
            "metadata": {},
            "source": "# Conclusion"
        },
        {
            "cell_type": "markdown",
            "metadata": {},
            "source": ""
        }
    ],
    "metadata": {
        "kernelspec": {
            "display_name": "Python 3.7",
            "language": "python",
            "name": "python3"
        },
        "language_info": {
            "codemirror_mode": {
                "name": "ipython",
                "version": 3
            },
            "file_extension": ".py",
            "mimetype": "text/x-python",
            "name": "python",
            "nbconvert_exporter": "python",
            "pygments_lexer": "ipython3",
            "version": "3.7.9"
        }
    },
    "nbformat": 4,
    "nbformat_minor": 1
}