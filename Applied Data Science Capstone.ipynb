{
    "cells": [
        {
            "cell_type": "markdown",
            "metadata": {
                "collapsed": true
            },
            "source": "# Applied Data Science Capstone Project: Week 3\n\n__This notebook explores, segments, and clusters the neighborhoods in the city of Toronto.__"
        },
        {
            "cell_type": "markdown",
            "metadata": {},
            "source": "First, I imported the BeautifulSoup package and use it to scrape the contents of the following page: https://en.wikipedia.org/wiki/List_of_postal_codes_of_Canada:_M."
        },
        {
            "cell_type": "code",
            "execution_count": 19,
            "metadata": {},
            "outputs": [],
            "source": "# Import BeautifulSoup package\nfrom bs4 import BeautifulSoup\nfrom urllib.request import urlopen\n\n# Use BeautifulSoup package to scrape URL contents\nurl = \"https://en.wikipedia.org/wiki/List_of_postal_codes_of_Canada:_M\"\npage = urlopen(url)\nhtml = page.read().decode(\"utf-8\")\nsoup = BeautifulSoup(html, \"html.parser\")"
        },
        {
            "cell_type": "markdown",
            "metadata": {},
            "source": "Next, I imported the Pandas package, and created an empty Pandas dataframe."
        },
        {
            "cell_type": "code",
            "execution_count": 61,
            "metadata": {},
            "outputs": [],
            "source": "# Import pandas package\nimport pandas as pd\n\n# Create pandas dataframe to store data and define the column names\ncolumn_names = ['PostalCode','Borough','Neighbourhood']\ndf = pd.DataFrame(columns = column_names)"
        },
        {
            "cell_type": "markdown",
            "metadata": {},
            "source": "I then looked at each row of the scraped table. If the borough was not assigned, it was skipped. If the neighbourhood was not assigned, it was set to the value of the borough field. Each row was added to the dataframe\n\nAssumptions:\n- I assumed that there was only one table on the scraped page (visually confirmed to be true)\n- The first row scraped from the table lists the column headers (visually confirmed to be true)"
        },
        {
            "cell_type": "code",
            "execution_count": 65,
            "metadata": {},
            "outputs": [],
            "source": "# Create an index to track current row # of the scraped table\ncurrRow = 0\n\n# Find each row (\"<tr>\") of the scraped table\nfor row in soup.table.find_all('tr'):\n    \n    # Increment the current row's index\n    currRow = currRow + 1\n    \n    # If this is the first row scraped, skip it (since this just lists the column headers)\n    if (currRow == 1): continue\n    \n    # Reset row-level index and values\n    rowIndex = 0\n    rowPostal = ''\n    rowBorough = ''\n    rowHood = ''\n    \n    # Find each column (\"<td>\") of the scraped table\n    for col in row.find_all('td'):\n        if (rowIndex==0): rowPostal = col.text.strip()\n        elif (rowIndex==1): rowBorough = col.text.strip()\n        else: rowHood = col.text.strip()\n        rowIndex = rowIndex+1\n    \n    # If a borough is not assigned, ignore it\n    if (rowBorough == 'Not assigned'): continue\n    \n    # Append a new row to the dataframe\n    df = df.append({'PostalCode': rowPostal, 'Borough':rowBorough, 'Neighbourhood':rowHood}, ignore_index=True)"
        },
        {
            "cell_type": "code",
            "execution_count": 63,
            "metadata": {},
            "outputs": [
                {
                    "data": {
                        "text/plain": "(103, 3)"
                    },
                    "execution_count": 63,
                    "metadata": {},
                    "output_type": "execute_result"
                }
            ],
            "source": "df.shape"
        }
    ],
    "metadata": {
        "kernelspec": {
            "display_name": "Python 3.7",
            "language": "python",
            "name": "python3"
        },
        "language_info": {
            "codemirror_mode": {
                "name": "ipython",
                "version": 3
            },
            "file_extension": ".py",
            "mimetype": "text/x-python",
            "name": "python",
            "nbconvert_exporter": "python",
            "pygments_lexer": "ipython3",
            "version": "3.7.9"
        }
    },
    "nbformat": 4,
    "nbformat_minor": 1
}